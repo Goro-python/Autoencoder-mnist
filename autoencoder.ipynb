{
 "cells": [
  {
   "cell_type": "code",
   "execution_count": 1,
   "metadata": {},
   "outputs": [
    {
     "name": "stderr",
     "output_type": "stream",
     "text": [
      "C:\\Users\\goro\\AppData\\Local\\conda\\conda\\envs\\smartcity\\lib\\site-packages\\h5py\\__init__.py:36: FutureWarning: Conversion of the second argument of issubdtype from `float` to `np.floating` is deprecated. In future, it will be treated as `np.float64 == np.dtype(float).type`.\n",
      "  from ._conv import register_converters as _register_converters\n",
      "Using TensorFlow backend.\n"
     ]
    }
   ],
   "source": [
    "import numpy as np\n",
    "from keras.layers import Dense, Input\n",
    "from keras.models import Model\n",
    "from keras.optimizers import adadelta\n",
    "from keras.regularizers import l1\n",
    "import pydot"
   ]
  },
  {
   "cell_type": "code",
   "execution_count": 306,
   "metadata": {},
   "outputs": [
    {
     "ename": "TypeError",
     "evalue": "__call__() missing 1 required positional argument: 'inputs'",
     "output_type": "error",
     "traceback": [
      "\u001b[1;31m---------------------------------------------------------------------------\u001b[0m",
      "\u001b[1;31mTypeError\u001b[0m                                 Traceback (most recent call last)",
      "\u001b[1;32m<ipython-input-306-a89854f5c32e>\u001b[0m in \u001b[0;36m<module>\u001b[1;34m()\u001b[0m\n\u001b[0;32m    100\u001b[0m \u001b[0mdeep_autoencoder\u001b[0m\u001b[1;33m,\u001b[0m \u001b[0mencoder\u001b[0m\u001b[1;33m,\u001b[0m \u001b[0mdecoder\u001b[0m \u001b[1;33m=\u001b[0m \u001b[0mdeep_autoencoder\u001b[0m\u001b[1;33m(\u001b[0m\u001b[0minput_size\u001b[0m\u001b[1;33m=\u001b[0m\u001b[1;36m784\u001b[0m\u001b[1;33m,\u001b[0m\u001b[0membed_size\u001b[0m\u001b[1;33m=\u001b[0m\u001b[1;36m64\u001b[0m\u001b[1;33m)\u001b[0m\u001b[1;33m\u001b[0m\u001b[0m\n\u001b[0;32m    101\u001b[0m \u001b[0msparse_deep_autoencoder\u001b[0m\u001b[1;33m,\u001b[0m \u001b[0mencoder\u001b[0m\u001b[1;33m,\u001b[0m \u001b[0mdecoder\u001b[0m \u001b[1;33m=\u001b[0m \u001b[0msparse_deep_autoencoder\u001b[0m\u001b[1;33m(\u001b[0m\u001b[0minput_size\u001b[0m\u001b[1;33m=\u001b[0m\u001b[1;36m784\u001b[0m\u001b[1;33m,\u001b[0m\u001b[0membed_size\u001b[0m\u001b[1;33m=\u001b[0m\u001b[1;36m64\u001b[0m\u001b[1;33m)\u001b[0m\u001b[1;33m\u001b[0m\u001b[0m\n\u001b[1;32m--> 102\u001b[1;33m \u001b[0mdenoise_deep_autoencoder\u001b[0m\u001b[1;33m,\u001b[0m \u001b[0mencoder\u001b[0m\u001b[1;33m,\u001b[0m \u001b[0mdecoder\u001b[0m \u001b[1;33m=\u001b[0m \u001b[0mdeep_autoencoder\u001b[0m\u001b[1;33m(\u001b[0m\u001b[0minput_size\u001b[0m\u001b[1;33m=\u001b[0m\u001b[1;36m784\u001b[0m\u001b[1;33m,\u001b[0m\u001b[0membed_size\u001b[0m\u001b[1;33m=\u001b[0m\u001b[1;36m64\u001b[0m\u001b[1;33m)\u001b[0m\u001b[1;33m\u001b[0m\u001b[0m\n\u001b[0m\u001b[0;32m    103\u001b[0m \u001b[1;33m\u001b[0m\u001b[0m\n\u001b[0;32m    104\u001b[0m \u001b[1;33m\u001b[0m\u001b[0m\n",
      "\u001b[1;31mTypeError\u001b[0m: __call__() missing 1 required positional argument: 'inputs'"
     ]
    }
   ],
   "source": [
    "def shallow_autoencoder(input_size,embed_size):\n",
    "    \n",
    "    x_in = Input(shape=(input_size,))\n",
    "    X_EN=Dense(embed_size,activation='relu')(x_in)\n",
    "    X_De=Dense(input_size,activation='sigmoid')(X_EN)\n",
    "    shallow_autoencoder=Model(inputs=x_in,outputs=X_De)\n",
    "    \n",
    "    # encoder model\n",
    "    \n",
    "    encoder= Model(inputs=x_in,outputs=X_EN)\n",
    "    # decoder model\n",
    "    x_en= Input(shape=(embed_size,))\n",
    "    decode_layer=shallow_autoencoder.layers[-1]\n",
    "    decoder= Model(inputs=x_en,outputs=decode_layer(x_en))\n",
    "    \n",
    "    \n",
    "    return shallow_autoencoder,encoder,decoder\n",
    "    \n",
    "\n",
    "    \n",
    "    \n",
    "    \n",
    "    \n",
    "    \n",
    "def deep_autoencoder(input_size,embed_size):\n",
    "    \n",
    "    x_in = Input(shape=(input_size,))\n",
    "    # encoder 3 dense layers\n",
    "    X=Dense(512,activation='relu')(x_in)\n",
    "    X=Dense(256,activation='relu')(X)\n",
    "    X=Dense(128,activation='relu')(X)\n",
    "    \n",
    "    \n",
    "    X_EN=Dense(embed_size,activation='relu')(X)\n",
    "    \n",
    "    # decoder 3 dense layers  symmetric\n",
    "\n",
    "    X=Dense(128,activation='relu')(X_EN)\n",
    "    X=Dense(256,activation='relu')(X)\n",
    "    X=Dense(512,activation='relu')(X)\n",
    "    \n",
    "    X_De=Dense(input_size,activation='sigmoid')(X)\n",
    "    \n",
    "    deep_autoencoder=Model(inputs=x_in,outputs=X_De)\n",
    "    \n",
    "    # encoder model\n",
    "    \n",
    "    encoder= Model(inputs=x_in,outputs=X_EN)\n",
    "    decoder=None\n",
    "    \n",
    "    \n",
    "    \n",
    "    \n",
    "    return deep_autoencoder,encoder,decoder\n",
    "    \n",
    "    \n",
    "    \n",
    "    \n",
    "def sparse_deep_autoencoder(input_size,embed_size):\n",
    "    \n",
    "    x_in = Input(shape=(input_size,))\n",
    "    # encoder 3 dense layers\n",
    "    X=Dense(512,activation='relu')(x_in)\n",
    "    X=Dense(256,activation='relu')(X)\n",
    "    X=Dense(128,activation='relu')(X)\n",
    "    \n",
    "    \n",
    "    X_EN=Dense(embed_size,activation='relu',activity_regularizer=l1(10e-6))(X)  # sparse constraint on encoder \n",
    "    \n",
    "    # decoder 3 dense layers  symmetric\n",
    "\n",
    "    X=Dense(128,activation='relu')(X_EN)\n",
    "    X=Dense(256,activation='relu')(X)\n",
    "    X=Dense(512,activation='relu')(X)\n",
    "    \n",
    "    X_De=Dense(input_size,activation='sigmoid')(X)\n",
    "    \n",
    "    sparse_deep_autoencoder=Model(inputs=x_in,outputs=X_De)\n",
    "    \n",
    "    # encoder model\n",
    "    \n",
    "    sparse_encoder= Model(inputs=x_in,outputs=X_EN)\n",
    "    decoder=None\n",
    "    \n",
    "    \n",
    "    return sparse_deep_autoencoder,sparse_encoder,decoder\n",
    "    \n",
    "def denoise_deep_autoencoder(input_size):\n",
    "    return None \n",
    "    \n",
    "def contractive_autoencoder(input_size):\n",
    "    return None \n",
    "    \n",
    "def variation_autoencoder(input_size):\n",
    "    return None \n",
    "    \n",
    "    \n",
    "\n",
    "shallow_autoencoder, encoder, decoder = shallow_autoencoder(input_size=784,embed_size=64)\n",
    "deep_autoencoder, encoder, decoder = deep_autoencoder(input_size=784,embed_size=64)\n",
    "sparse_deep_autoencoder, encoder, decoder = sparse_deep_autoencoder(input_size=784,embed_size=64)\n",
    "#denoise_deep_autoencoder, encoder, decoder = deep_autoencoder(input_size=784,embed_size=64)\n",
    "    \n",
    "    \n"
   ]
  },
  {
   "cell_type": "code",
   "execution_count": 41,
   "metadata": {},
   "outputs": [
    {
     "name": "stdout",
     "output_type": "stream",
     "text": [
      "_________________________________________________________________\n",
      "Layer (type)                 Output Shape              Param #   \n",
      "=================================================================\n",
      "input_5 (InputLayer)         (None, 784)               0         \n",
      "_________________________________________________________________\n",
      "dense_19 (Dense)             (None, 64)                50240     \n",
      "_________________________________________________________________\n",
      "dense_20 (Dense)             (None, 784)               50960     \n",
      "=================================================================\n",
      "Total params: 101,200\n",
      "Trainable params: 101,200\n",
      "Non-trainable params: 0\n",
      "_________________________________________________________________\n"
     ]
    }
   ],
   "source": [
    "shallow_autoencoder.summary()\n"
   ]
  },
  {
   "cell_type": "code",
   "execution_count": 42,
   "metadata": {},
   "outputs": [
    {
     "name": "stdout",
     "output_type": "stream",
     "text": [
      "_________________________________________________________________\n",
      "Layer (type)                 Output Shape              Param #   \n",
      "=================================================================\n",
      "input_7 (InputLayer)         (None, 784)               0         \n",
      "_________________________________________________________________\n",
      "dense_21 (Dense)             (None, 512)               401920    \n",
      "_________________________________________________________________\n",
      "dense_22 (Dense)             (None, 256)               131328    \n",
      "_________________________________________________________________\n",
      "dense_23 (Dense)             (None, 128)               32896     \n",
      "_________________________________________________________________\n",
      "dense_24 (Dense)             (None, 64)                8256      \n",
      "_________________________________________________________________\n",
      "dense_25 (Dense)             (None, 128)               8320      \n",
      "_________________________________________________________________\n",
      "dense_26 (Dense)             (None, 256)               33024     \n",
      "_________________________________________________________________\n",
      "dense_27 (Dense)             (None, 512)               131584    \n",
      "_________________________________________________________________\n",
      "dense_28 (Dense)             (None, 784)               402192    \n",
      "=================================================================\n",
      "Total params: 1,149,520\n",
      "Trainable params: 1,149,520\n",
      "Non-trainable params: 0\n",
      "_________________________________________________________________\n"
     ]
    }
   ],
   "source": [
    "deep_autoencoder.summary()"
   ]
  },
  {
   "cell_type": "code",
   "execution_count": 43,
   "metadata": {},
   "outputs": [
    {
     "name": "stdout",
     "output_type": "stream",
     "text": [
      "_________________________________________________________________\n",
      "Layer (type)                 Output Shape              Param #   \n",
      "=================================================================\n",
      "input_8 (InputLayer)         (None, 784)               0         \n",
      "_________________________________________________________________\n",
      "dense_29 (Dense)             (None, 512)               401920    \n",
      "_________________________________________________________________\n",
      "dense_30 (Dense)             (None, 256)               131328    \n",
      "_________________________________________________________________\n",
      "dense_31 (Dense)             (None, 128)               32896     \n",
      "_________________________________________________________________\n",
      "dense_32 (Dense)             (None, 128)               16512     \n",
      "_________________________________________________________________\n",
      "dense_33 (Dense)             (None, 128)               16512     \n",
      "_________________________________________________________________\n",
      "dense_34 (Dense)             (None, 256)               33024     \n",
      "_________________________________________________________________\n",
      "dense_35 (Dense)             (None, 512)               131584    \n",
      "_________________________________________________________________\n",
      "dense_36 (Dense)             (None, 784)               402192    \n",
      "=================================================================\n",
      "Total params: 1,165,968\n",
      "Trainable params: 1,165,968\n",
      "Non-trainable params: 0\n",
      "_________________________________________________________________\n"
     ]
    }
   ],
   "source": [
    "sparse_deep_autoencoder.summary()"
   ]
  },
  {
   "cell_type": "code",
   "execution_count": 44,
   "metadata": {},
   "outputs": [],
   "source": [
    "def model_compile(model,opt,los):\n",
    "    model.compile(optimizer=opt,loss=los)\n",
    "    return model\n",
    "    \n",
    "    \n",
    "def model_train(model,x_train,y_train,x_test,y_test,batch_size,epochs,shuffle=True): # generic for image denoising \n",
    "    history=model.fit(x_train, x_train,epochs=epochs,batch_size=batch_size,shuffle=True,validation_data=(x_test, x_test))\n",
    "    return model,history\n",
    "\n",
    "shallow_autoencoder=model_compile(shallow_autoencoder, opt='adadelta',los='binary_crossentropy')\n",
    "\n",
    "\n",
    "\n",
    "    \n",
    "    \n",
    "    "
   ]
  },
  {
   "cell_type": "code",
   "execution_count": 273,
   "metadata": {},
   "outputs": [],
   "source": [
    "def data_loading():\n",
    "    from keras.datasets import mnist\n",
    "    (x_train,_), (x_test,_) = mnist.load_data()\n",
    "    return x_train,x_test\n",
    "\n",
    "x_train , x_test = data_loading()\n",
    "\n",
    "\n",
    "\n",
    "def image_noise(x_train,x_test):\n",
    "    \n",
    "    x_train = x_train.astype('float32') / 255.\n",
    "    x_test = x_test.astype('float32') / 255.\n",
    "    x_train = np.reshape(x_train, (len(x_train), 28, 28, 1))  # adapt this if using `channels_first` image data format\n",
    "    x_test = np.reshape(x_test, (len(x_test), 28, 28, 1))  # adapt this if using `channels_first` image data format\n",
    "    noise_factor = 0.5\n",
    "    x_train_noisy = x_train + noise_factor * np.random.normal(loc=0.0, scale=1.0, size=x_train.shape) \n",
    "    x_test_noisy = x_test + noise_factor * np.random.normal(loc=0.0, scale=1.0, size=x_test.shape) \n",
    "    x_train_noisy = np.clip(x_train_noisy, 0., 1.)\n",
    "    x_test_noisy = np.clip(x_test_noisy, 0., 1.)\n",
    "    return x_train_noisy,x_test_noisy\n",
    "\n",
    "\n",
    "x_train_noisy,x_test_noisy=image_noise(x_train,x_test)\n",
    "\n",
    "\n",
    "    \n",
    "    \n",
    "    \n",
    "    "
   ]
  },
  {
   "cell_type": "code",
   "execution_count": 289,
   "metadata": {},
   "outputs": [
    {
     "data": {
      "text/plain": [
       "<matplotlib.image.AxesImage at 0x5b6b1940>"
      ]
     },
     "execution_count": 289,
     "metadata": {},
     "output_type": "execute_result"
    },
    {
     "data": {
      "image/png": "[encoded data removed]",
      "text/plain": [
       "<Figure size 432x288 with 1 Axes>"
      ]
     },
     "metadata": {},
     "output_type": "display_data"
    }
   ],
   "source": [
    "x_train_noisy.shape\n",
    "image=x_train_noisy[np.random.randint(0,100)]\n",
    "image.shape\n",
    "plt.imshow(image.reshape(28,28))\n",
    "#plt.imshow(x_train_noisy[0,:,:,:])"
   ]
  },
  {
   "cell_type": "code",
   "execution_count": 290,
   "metadata": {},
   "outputs": [
    {
     "data": {
      "text/plain": [
       "(10000, 28, 28)"
      ]
     },
     "execution_count": 290,
     "metadata": {},
     "output_type": "execute_result"
    }
   ],
   "source": [
    "x_test.shape"
   ]
  },
  {
   "cell_type": "code",
   "execution_count": 292,
   "metadata": {},
   "outputs": [],
   "source": [
    "def data_preprocess(x):\n",
    "    return (x.astype('float32')/255).reshape(x.shape[0],np.prod(x.shape[1:]))\n",
    "\n",
    "x_train=data_preprocess(x_train)\n",
    "#model_train(model,x_train,x_test,batch_size,epochs,shuffle=True)\n"
   ]
  },
  {
   "cell_type": "code",
   "execution_count": 293,
   "metadata": {},
   "outputs": [
    {
     "data": {
      "text/plain": [
       "(60000, 784)"
      ]
     },
     "execution_count": 293,
     "metadata": {},
     "output_type": "execute_result"
    }
   ],
   "source": [
    "x_train.shape"
   ]
  },
  {
   "cell_type": "code",
   "execution_count": 294,
   "metadata": {},
   "outputs": [],
   "source": [
    "x_test=data_preprocess(x_test)"
   ]
  },
  {
   "cell_type": "code",
   "execution_count": 295,
   "metadata": {},
   "outputs": [
    {
     "data": {
      "text/plain": [
       "(10000, 784)"
      ]
     },
     "execution_count": 295,
     "metadata": {},
     "output_type": "execute_result"
    }
   ],
   "source": [
    "x_test.shape"
   ]
  },
  {
   "cell_type": "code",
   "execution_count": 45,
   "metadata": {},
   "outputs": [
    {
     "name": "stdout",
     "output_type": "stream",
     "text": [
      "Train on 60000 samples, validate on 10000 samples\n",
      "Epoch 1/40\n",
      "60000/60000 [==============================] - 2s 30us/step - loss: 0.3454 - val_loss: 0.2674\n",
      "Epoch 2/40\n",
      "60000/60000 [==============================] - 2s 25us/step - loss: 0.2570 - val_loss: 0.2430\n",
      "Epoch 3/40\n",
      "60000/60000 [==============================] - 1s 22us/step - loss: 0.2319 - val_loss: 0.2188\n",
      "Epoch 4/40\n",
      "60000/60000 [==============================] - 1s 25us/step - loss: 0.2112 - val_loss: 0.2015\n",
      "Epoch 5/40\n",
      "60000/60000 [==============================] - 1s 23us/step - loss: 0.1965 - val_loss: 0.1891\n",
      "Epoch 6/40\n",
      "60000/60000 [==============================] - 1s 22us/step - loss: 0.1858 - val_loss: 0.1797\n",
      "Epoch 7/40\n",
      "60000/60000 [==============================] - 1s 25us/step - loss: 0.1773 - val_loss: 0.1721\n",
      "Epoch 8/40\n",
      "60000/60000 [==============================] - 1s 22us/step - loss: 0.1702 - val_loss: 0.1656\n",
      "Epoch 9/40\n",
      "60000/60000 [==============================] - 2s 26us/step - loss: 0.1641 - val_loss: 0.1600\n",
      "Epoch 10/40\n",
      "60000/60000 [==============================] - 1s 22us/step - loss: 0.1588 - val_loss: 0.1550\n",
      "Epoch 11/40\n",
      "60000/60000 [==============================] - 1s 23us/step - loss: 0.1541 - val_loss: 0.1506\n",
      "Epoch 12/40\n",
      "60000/60000 [==============================] - 1s 25us/step - loss: 0.1499 - val_loss: 0.1465\n",
      "Epoch 13/40\n",
      "60000/60000 [==============================] - 1s 23us/step - loss: 0.1460 - val_loss: 0.1429\n",
      "Epoch 14/40\n",
      "60000/60000 [==============================] - 2s 25us/step - loss: 0.1425 - val_loss: 0.1395\n",
      "Epoch 15/40\n",
      "60000/60000 [==============================] - 1s 22us/step - loss: 0.1393 - val_loss: 0.1364\n",
      "Epoch 16/40\n",
      "60000/60000 [==============================] - 1s 24us/step - loss: 0.1363 - val_loss: 0.1335\n",
      "Epoch 17/40\n",
      "60000/60000 [==============================] - 1s 23us/step - loss: 0.1335 - val_loss: 0.1308\n",
      "Epoch 18/40\n",
      "60000/60000 [==============================] - 1s 21us/step - loss: 0.1309 - val_loss: 0.1282\n",
      "Epoch 19/40\n",
      "60000/60000 [==============================] - 2s 25us/step - loss: 0.1285 - val_loss: 0.1258\n",
      "Epoch 20/40\n",
      "60000/60000 [==============================] - 1s 22us/step - loss: 0.1261 - val_loss: 0.1236\n",
      "Epoch 21/40\n",
      "60000/60000 [==============================] - 2s 25us/step - loss: 0.1239 - val_loss: 0.1213\n",
      "Epoch 22/40\n",
      "60000/60000 [==============================] - 1s 22us/step - loss: 0.1217 - val_loss: 0.1192\n",
      "Epoch 23/40\n",
      "60000/60000 [==============================] - 1s 21us/step - loss: 0.1197 - val_loss: 0.1172\n",
      "Epoch 24/40\n",
      "60000/60000 [==============================] - 2s 27us/step - loss: 0.1177 - val_loss: 0.1153\n",
      "Epoch 25/40\n",
      "60000/60000 [==============================] - 1s 22us/step - loss: 0.1159 - val_loss: 0.1135\n",
      "Epoch 26/40\n",
      "60000/60000 [==============================] - 2s 26us/step - loss: 0.1141 - val_loss: 0.1118\n",
      "Epoch 27/40\n",
      "60000/60000 [==============================] - 1s 23us/step - loss: 0.1124 - val_loss: 0.1101\n",
      "Epoch 28/40\n",
      "60000/60000 [==============================] - 1s 24us/step - loss: 0.1108 - val_loss: 0.1086\n",
      "Epoch 29/40\n",
      "60000/60000 [==============================] - 1s 24us/step - loss: 0.1093 - val_loss: 0.1071\n",
      "Epoch 30/40\n",
      "60000/60000 [==============================] - 1s 21us/step - loss: 0.1079 - val_loss: 0.1058\n",
      "Epoch 31/40\n",
      "60000/60000 [==============================] - 1s 25us/step - loss: 0.1066 - val_loss: 0.1045\n",
      "Epoch 32/40\n",
      "60000/60000 [==============================] - 1s 21us/step - loss: 0.1053 - val_loss: 0.1033\n",
      "Epoch 33/40\n",
      "60000/60000 [==============================] - 1s 22us/step - loss: 0.1042 - val_loss: 0.1021\n",
      "Epoch 34/40\n",
      "60000/60000 [==============================] - 1s 24us/step - loss: 0.1031 - val_loss: 0.1011\n",
      "Epoch 35/40\n",
      "60000/60000 [==============================] - 1s 21us/step - loss: 0.1021 - val_loss: 0.1001\n",
      "Epoch 36/40\n",
      "60000/60000 [==============================] - 1s 23us/step - loss: 0.1011 - val_loss: 0.0992\n",
      "Epoch 37/40\n",
      "60000/60000 [==============================] - 1s 21us/step - loss: 0.1002 - val_loss: 0.0983\n",
      "Epoch 38/40\n",
      "60000/60000 [==============================] - 1s 21us/step - loss: 0.0994 - val_loss: 0.0976\n",
      "Epoch 39/40\n",
      "60000/60000 [==============================] - 1s 23us/step - loss: 0.0986 - val_loss: 0.0968\n",
      "Epoch 40/40\n",
      "60000/60000 [==============================] - 1s 21us/step - loss: 0.0979 - val_loss: 0.0961\n"
     ]
    }
   ],
   "source": [
    "shallow_autoencoder, history = model_train(model=shallow_autoencoder,x_train=x_train,x_test=x_test,batch_size=256,epochs=40,shuffle=True)"
   ]
  },
  {
   "cell_type": "code",
   "execution_count": 46,
   "metadata": {},
   "outputs": [
    {
     "data": {
      "image/png": "[encoded data removed]",
      "text/plain": [
       "<Figure size 432x288 with 1 Axes>"
      ]
     },
     "metadata": {},
     "output_type": "display_data"
    }
   ],
   "source": [
    "import matplotlib.pyplot as plt\n",
    "%matplotlib inline  \n",
    "plt.plot(history.history['loss'])\n",
    "plt.show()"
   ]
  },
  {
   "cell_type": "code",
   "execution_count": 40,
   "metadata": {},
   "outputs": [
    {
     "data": {
      "text/plain": [
       "[0.09142509981791179,\n",
       " 0.0910178614139557,\n",
       " 0.09062822986841201,\n",
       " 0.0902526234984398,\n",
       " 0.08989529472986857,\n",
       " 0.08955204048156738,\n",
       " 0.08921960943539937,\n",
       " 0.08890282223622004,\n",
       " 0.08859600134293238,\n",
       " 0.08830226904153823]"
      ]
     },
     "execution_count": 40,
     "metadata": {},
     "output_type": "execute_result"
    }
   ],
   "source": [
    "history.history['loss']"
   ]
  },
  {
   "cell_type": "code",
   "execution_count": 47,
   "metadata": {},
   "outputs": [
    {
     "data": {
      "text/plain": [
       "<matplotlib.image.AxesImage at 0x41ffb128>"
      ]
     },
     "execution_count": 47,
     "metadata": {},
     "output_type": "execute_result"
    },
    {
     "data": {
      "image/png": "[encoded data removed]",
      "text/plain": [
       "<Figure size 432x288 with 1 Axes>"
      ]
     },
     "metadata": {},
     "output_type": "display_data"
    }
   ],
   "source": [
    "def model_generation(model,image):\n",
    "    recon_image = model.predict(image)\n",
    "    return recon_image\n",
    "    \n",
    "    \n",
    "index=np.random.randint(0,100)    \n",
    "image=x_test[index]\n",
    "image.shape\n",
    "image=np.expand_dims(image,axis=0)\n",
    "image.shape    \n",
    "\n",
    "recon_image=model_generation(shallow_autoencoder,image)\n",
    "\n",
    "or_image= image.reshape(image.shape[0],28,28)\n",
    "recon_image=recon_image.reshape(recon_image.shape[0],28,28)\n",
    "\n",
    "plt.figure\n",
    "plt.imshow(or_image[0,:,:])\n",
    "\n",
    "\n",
    "\n",
    "\n",
    "\n",
    "    \n",
    "    "
   ]
  },
  {
   "cell_type": "code",
   "execution_count": 48,
   "metadata": {},
   "outputs": [
    {
     "data": {
      "text/plain": [
       "<matplotlib.image.AxesImage at 0x42049a58>"
      ]
     },
     "execution_count": 48,
     "metadata": {},
     "output_type": "execute_result"
    },
    {
     "data": {
      "image/png": "[encoded data removed]",
      "text/plain": [
       "<Figure size 432x288 with 1 Axes>"
      ]
     },
     "metadata": {},
     "output_type": "display_data"
    }
   ],
   "source": [
    "plt.figure\n",
    "plt.imshow(recon_image[0,:,:])"
   ]
  },
  {
   "cell_type": "code",
   "execution_count": 56,
   "metadata": {},
   "outputs": [
    {
     "data": {
      "text/plain": [
       "<matplotlib.image.AxesImage at 0x7fe856b65978>"
      ]
     },
     "execution_count": 56,
     "metadata": {},
     "output_type": "execute_result"
    },
    {
     "data": {
      "image/png": "[encoded data removed]",
      "text/plain": [
       "<Figure size 432x288 with 1 Axes>"
      ]
     },
     "metadata": {
      "needs_background": "light"
     },
     "output_type": "display_data"
    }
   ],
   "source": []
  },
  {
   "cell_type": "code",
   "execution_count": 57,
   "metadata": {},
   "outputs": [
    {
     "data": {
      "text/plain": [
       "<matplotlib.image.AxesImage at 0x7fe856b04048>"
      ]
     },
     "execution_count": 57,
     "metadata": {},
     "output_type": "execute_result"
    },
    {
     "data": {
      "image/png": "[encoded data removed]",
      "text/plain": [
       "<Figure size 432x288 with 1 Axes>"
      ]
     },
     "metadata": {
      "needs_background": "light"
     },
     "output_type": "display_data"
    }
   ],
   "source": []
  },
  {
   "cell_type": "code",
   "execution_count": 49,
   "metadata": {},
   "outputs": [],
   "source": [
    "deep_autoencoder=model_compile(deep_autoencoder, opt='adadelta',los='binary_crossentropy')"
   ]
  },
  {
   "cell_type": "code",
   "execution_count": 51,
   "metadata": {},
   "outputs": [
    {
     "name": "stdout",
     "output_type": "stream",
     "text": [
      "Train on 60000 samples, validate on 10000 samples\n",
      "Epoch 1/130\n",
      "60000/60000 [==============================] - 3s 51us/step - loss: 0.1144 - val_loss: 0.1133\n",
      "Epoch 2/130\n",
      "60000/60000 [==============================] - 3s 50us/step - loss: 0.1136 - val_loss: 0.1123\n",
      "Epoch 3/130\n",
      "60000/60000 [==============================] - 3s 49us/step - loss: 0.1127 - val_loss: 0.1101\n",
      "Epoch 4/130\n",
      "60000/60000 [==============================] - 3s 50us/step - loss: 0.1118 - val_loss: 0.1112\n",
      "Epoch 5/130\n",
      "60000/60000 [==============================] - 3s 50us/step - loss: 0.1110 - val_loss: 0.1095\n",
      "Epoch 6/130\n",
      "60000/60000 [==============================] - 3s 50us/step - loss: 0.1102 - val_loss: 0.1093\n",
      "Epoch 7/130\n",
      "60000/60000 [==============================] - 3s 49us/step - loss: 0.1092 - val_loss: 0.1089\n",
      "Epoch 8/130\n",
      "60000/60000 [==============================] - 3s 50us/step - loss: 0.1086 - val_loss: 0.1073\n",
      "Epoch 9/130\n",
      "60000/60000 [==============================] - 3s 50us/step - loss: 0.1079 - val_loss: 0.1084\n",
      "Epoch 10/130\n",
      "60000/60000 [==============================] - 3s 50us/step - loss: 0.1073 - val_loss: 0.1063\n",
      "Epoch 11/130\n",
      "60000/60000 [==============================] - 3s 50us/step - loss: 0.1067 - val_loss: 0.1054\n",
      "Epoch 12/130\n",
      "60000/60000 [==============================] - 3s 50us/step - loss: 0.1061 - val_loss: 0.1069\n",
      "Epoch 13/130\n",
      "60000/60000 [==============================] - 3s 51us/step - loss: 0.1053 - val_loss: 0.1065\n",
      "Epoch 14/130\n",
      "60000/60000 [==============================] - 3s 50us/step - loss: 0.1049 - val_loss: 0.1035\n",
      "Epoch 15/130\n",
      "60000/60000 [==============================] - 3s 50us/step - loss: 0.1044 - val_loss: 0.1046\n",
      "Epoch 16/130\n",
      "60000/60000 [==============================] - 3s 50us/step - loss: 0.1038 - val_loss: 0.1031\n",
      "Epoch 17/130\n",
      "60000/60000 [==============================] - 3s 49us/step - loss: 0.1033 - val_loss: 0.1039\n",
      "Epoch 18/130\n",
      "60000/60000 [==============================] - 3s 49us/step - loss: 0.1028 - val_loss: 0.1039\n",
      "Epoch 19/130\n",
      "60000/60000 [==============================] - 3s 50us/step - loss: 0.1026 - val_loss: 0.1027\n",
      "Epoch 20/130\n",
      "60000/60000 [==============================] - 3s 51us/step - loss: 0.1019 - val_loss: 0.1016\n",
      "Epoch 21/130\n",
      "60000/60000 [==============================] - 3s 50us/step - loss: 0.1015 - val_loss: 0.0991\n",
      "Epoch 22/130\n",
      "60000/60000 [==============================] - 3s 50us/step - loss: 0.1010 - val_loss: 0.1006\n",
      "Epoch 23/130\n",
      "60000/60000 [==============================] - 3s 50us/step - loss: 0.1007 - val_loss: 0.0991\n",
      "Epoch 24/130\n",
      "60000/60000 [==============================] - 3s 49us/step - loss: 0.1002 - val_loss: 0.1012\n",
      "Epoch 25/130\n",
      "60000/60000 [==============================] - 3s 49us/step - loss: 0.1000 - val_loss: 0.0998\n",
      "Epoch 26/130\n",
      "60000/60000 [==============================] - 3s 49us/step - loss: 0.0994 - val_loss: 0.1005\n",
      "Epoch 27/130\n",
      "60000/60000 [==============================] - 3s 50us/step - loss: 0.0992 - val_loss: 0.0985\n",
      "Epoch 28/130\n",
      "60000/60000 [==============================] - 3s 50us/step - loss: 0.0988 - val_loss: 0.0986\n",
      "Epoch 29/130\n",
      "60000/60000 [==============================] - 3s 50us/step - loss: 0.0985 - val_loss: 0.0973\n",
      "Epoch 30/130\n",
      "60000/60000 [==============================] - 3s 50us/step - loss: 0.0981 - val_loss: 0.0973\n",
      "Epoch 31/130\n",
      "60000/60000 [==============================] - 3s 50us/step - loss: 0.0978 - val_loss: 0.0967\n",
      "Epoch 32/130\n",
      "60000/60000 [==============================] - 3s 49us/step - loss: 0.0975 - val_loss: 0.0969\n",
      "Epoch 33/130\n",
      "60000/60000 [==============================] - 3s 49us/step - loss: 0.0972 - val_loss: 0.0967\n",
      "Epoch 34/130\n",
      "60000/60000 [==============================] - 3s 50us/step - loss: 0.0970 - val_loss: 0.0971\n",
      "Epoch 35/130\n",
      "60000/60000 [==============================] - 3s 50us/step - loss: 0.0966 - val_loss: 0.0966\n",
      "Epoch 36/130\n",
      "60000/60000 [==============================] - 3s 50us/step - loss: 0.0964 - val_loss: 0.0961\n",
      "Epoch 37/130\n",
      "60000/60000 [==============================] - 3s 50us/step - loss: 0.0960 - val_loss: 0.0962\n",
      "Epoch 38/130\n",
      "60000/60000 [==============================] - 3s 50us/step - loss: 0.0959 - val_loss: 0.0952\n",
      "Epoch 39/130\n",
      "60000/60000 [==============================] - 3s 49us/step - loss: 0.0956 - val_loss: 0.0966\n",
      "Epoch 40/130\n",
      "60000/60000 [==============================] - 3s 50us/step - loss: 0.0953 - val_loss: 0.0942\n",
      "Epoch 41/130\n",
      "60000/60000 [==============================] - 3s 49us/step - loss: 0.0951 - val_loss: 0.0952\n",
      "Epoch 42/130\n",
      "60000/60000 [==============================] - 3s 50us/step - loss: 0.0948 - val_loss: 0.0948\n",
      "Epoch 43/130\n",
      "60000/60000 [==============================] - 3s 50us/step - loss: 0.0946 - val_loss: 0.0947\n",
      "Epoch 44/130\n",
      "60000/60000 [==============================] - 3s 50us/step - loss: 0.0945 - val_loss: 0.0962\n",
      "Epoch 45/130\n",
      "60000/60000 [==============================] - 3s 51us/step - loss: 0.0943 - val_loss: 0.0946\n",
      "Epoch 46/130\n",
      "60000/60000 [==============================] - 3s 49us/step - loss: 0.0940 - val_loss: 0.0941\n",
      "Epoch 47/130\n",
      "60000/60000 [==============================] - 3s 50us/step - loss: 0.0938 - val_loss: 0.0955\n",
      "Epoch 48/130\n",
      "60000/60000 [==============================] - 3s 51us/step - loss: 0.0936 - val_loss: 0.0933\n",
      "Epoch 49/130\n",
      "60000/60000 [==============================] - 3s 49us/step - loss: 0.0934 - val_loss: 0.0925\n",
      "Epoch 50/130\n",
      "60000/60000 [==============================] - 3s 49us/step - loss: 0.0933 - val_loss: 0.0928\n",
      "Epoch 51/130\n",
      "60000/60000 [==============================] - 3s 50us/step - loss: 0.0930 - val_loss: 0.0939\n",
      "Epoch 52/130\n",
      "60000/60000 [==============================] - 3s 50us/step - loss: 0.0927 - val_loss: 0.0915\n",
      "Epoch 53/130\n",
      "60000/60000 [==============================] - 3s 50us/step - loss: 0.0926 - val_loss: 0.0922\n",
      "Epoch 54/130\n",
      "60000/60000 [==============================] - 3s 50us/step - loss: 0.0925 - val_loss: 0.0922\n",
      "Epoch 55/130\n",
      "60000/60000 [==============================] - 3s 49us/step - loss: 0.0923 - val_loss: 0.0917\n",
      "Epoch 56/130\n",
      "60000/60000 [==============================] - 3s 49us/step - loss: 0.0922 - val_loss: 0.0921\n",
      "Epoch 57/130\n",
      "60000/60000 [==============================] - 3s 50us/step - loss: 0.0919 - val_loss: 0.0934\n",
      "Epoch 58/130\n",
      "60000/60000 [==============================] - 3s 49us/step - loss: 0.0918 - val_loss: 0.0915\n",
      "Epoch 59/130\n",
      "60000/60000 [==============================] - 3s 49us/step - loss: 0.0917 - val_loss: 0.0907\n",
      "Epoch 60/130\n",
      "60000/60000 [==============================] - 3s 49us/step - loss: 0.0915 - val_loss: 0.0917\n",
      "Epoch 61/130\n",
      "60000/60000 [==============================] - 3s 49us/step - loss: 0.0913 - val_loss: 0.0913\n",
      "Epoch 62/130\n",
      "60000/60000 [==============================] - 3s 50us/step - loss: 0.0911 - val_loss: 0.0916\n",
      "Epoch 63/130\n",
      "60000/60000 [==============================] - 3s 49us/step - loss: 0.0910 - val_loss: 0.0911\n",
      "Epoch 64/130\n",
      "60000/60000 [==============================] - 3s 49us/step - loss: 0.0908 - val_loss: 0.0916\n",
      "Epoch 65/130\n",
      "60000/60000 [==============================] - 3s 49us/step - loss: 0.0908 - val_loss: 0.0900\n",
      "Epoch 66/130\n",
      "60000/60000 [==============================] - 3s 48us/step - loss: 0.0906 - val_loss: 0.0918\n",
      "Epoch 67/130\n",
      "60000/60000 [==============================] - 3s 49us/step - loss: 0.0904 - val_loss: 0.0906\n",
      "Epoch 68/130\n",
      "60000/60000 [==============================] - 3s 49us/step - loss: 0.0903 - val_loss: 0.0912\n",
      "Epoch 69/130\n",
      "60000/60000 [==============================] - 3s 50us/step - loss: 0.0902 - val_loss: 0.0891\n",
      "Epoch 70/130\n",
      "60000/60000 [==============================] - 3s 49us/step - loss: 0.0901 - val_loss: 0.0902\n",
      "Epoch 71/130\n",
      "60000/60000 [==============================] - 3s 49us/step - loss: 0.0899 - val_loss: 0.0901\n",
      "Epoch 72/130\n",
      "60000/60000 [==============================] - 3s 50us/step - loss: 0.0897 - val_loss: 0.0895\n",
      "Epoch 73/130\n",
      "60000/60000 [==============================] - 3s 50us/step - loss: 0.0896 - val_loss: 0.0905\n",
      "Epoch 74/130\n",
      "60000/60000 [==============================] - 3s 50us/step - loss: 0.0896 - val_loss: 0.0905\n",
      "Epoch 75/130\n",
      "60000/60000 [==============================] - 3s 49us/step - loss: 0.0894 - val_loss: 0.0888\n",
      "Epoch 76/130\n",
      "60000/60000 [==============================] - 3s 49us/step - loss: 0.0894 - val_loss: 0.0892\n",
      "Epoch 77/130\n"
     ]
    },
    {
     "name": "stdout",
     "output_type": "stream",
     "text": [
      "60000/60000 [==============================] - 3s 50us/step - loss: 0.0892 - val_loss: 0.0908\n",
      "Epoch 78/130\n",
      "60000/60000 [==============================] - 3s 51us/step - loss: 0.0891 - val_loss: 0.0889\n",
      "Epoch 79/130\n",
      "60000/60000 [==============================] - 3s 50us/step - loss: 0.0889 - val_loss: 0.0891\n",
      "Epoch 80/130\n",
      "60000/60000 [==============================] - 3s 50us/step - loss: 0.0888 - val_loss: 0.0885\n",
      "Epoch 81/130\n",
      "60000/60000 [==============================] - 3s 52us/step - loss: 0.0888 - val_loss: 0.0904\n",
      "Epoch 82/130\n",
      "60000/60000 [==============================] - 3s 51us/step - loss: 0.0886 - val_loss: 0.0892\n",
      "Epoch 83/130\n",
      "60000/60000 [==============================] - 3s 50us/step - loss: 0.0885 - val_loss: 0.0889\n",
      "Epoch 84/130\n",
      "60000/60000 [==============================] - 3s 50us/step - loss: 0.0884 - val_loss: 0.0881\n",
      "Epoch 85/130\n",
      "60000/60000 [==============================] - 3s 50us/step - loss: 0.0883 - val_loss: 0.0884\n",
      "Epoch 86/130\n",
      "60000/60000 [==============================] - 3s 52us/step - loss: 0.0882 - val_loss: 0.0877\n",
      "Epoch 87/130\n",
      "60000/60000 [==============================] - 3s 50us/step - loss: 0.0881 - val_loss: 0.0889\n",
      "Epoch 88/130\n",
      "60000/60000 [==============================] - 3s 50us/step - loss: 0.0880 - val_loss: 0.0876\n",
      "Epoch 89/130\n",
      "60000/60000 [==============================] - 3s 52us/step - loss: 0.0879 - val_loss: 0.0886\n",
      "Epoch 90/130\n",
      "60000/60000 [==============================] - 3s 51us/step - loss: 0.0877 - val_loss: 0.0889\n",
      "Epoch 91/130\n",
      "60000/60000 [==============================] - 3s 50us/step - loss: 0.0877 - val_loss: 0.0890\n",
      "Epoch 92/130\n",
      "60000/60000 [==============================] - 3s 52us/step - loss: 0.0877 - val_loss: 0.0884\n",
      "Epoch 93/130\n",
      "60000/60000 [==============================] - 3s 51us/step - loss: 0.0875 - val_loss: 0.0884\n",
      "Epoch 94/130\n",
      "60000/60000 [==============================] - 3s 50us/step - loss: 0.0874 - val_loss: 0.0885\n",
      "Epoch 95/130\n",
      "60000/60000 [==============================] - 3s 50us/step - loss: 0.0874 - val_loss: 0.0870\n",
      "Epoch 96/130\n",
      "60000/60000 [==============================] - 3s 50us/step - loss: 0.0872 - val_loss: 0.0882\n",
      "Epoch 97/130\n",
      "60000/60000 [==============================] - 3s 51us/step - loss: 0.0872 - val_loss: 0.0884\n",
      "Epoch 98/130\n",
      "60000/60000 [==============================] - 3s 50us/step - loss: 0.0871 - val_loss: 0.0875\n",
      "Epoch 99/130\n",
      "60000/60000 [==============================] - 3s 50us/step - loss: 0.0869 - val_loss: 0.0886\n",
      "Epoch 100/130\n",
      "60000/60000 [==============================] - 3s 51us/step - loss: 0.0869 - val_loss: 0.0866\n",
      "Epoch 101/130\n",
      "60000/60000 [==============================] - 3s 50us/step - loss: 0.0868 - val_loss: 0.0864\n",
      "Epoch 102/130\n",
      "60000/60000 [==============================] - 3s 49us/step - loss: 0.0867 - val_loss: 0.0877\n",
      "Epoch 103/130\n",
      "60000/60000 [==============================] - 3s 49us/step - loss: 0.0866 - val_loss: 0.0888\n",
      "Epoch 104/130\n",
      "60000/60000 [==============================] - 3s 49us/step - loss: 0.0866 - val_loss: 0.0880\n",
      "Epoch 105/130\n",
      "60000/60000 [==============================] - 3s 50us/step - loss: 0.0864 - val_loss: 0.0874\n",
      "Epoch 106/130\n",
      "60000/60000 [==============================] - 3s 51us/step - loss: 0.0863 - val_loss: 0.0873\n",
      "Epoch 107/130\n",
      "60000/60000 [==============================] - 3s 51us/step - loss: 0.0864 - val_loss: 0.0867\n",
      "Epoch 108/130\n",
      "60000/60000 [==============================] - 3s 50us/step - loss: 0.0862 - val_loss: 0.0867\n",
      "Epoch 109/130\n",
      "60000/60000 [==============================] - 3s 49us/step - loss: 0.0862 - val_loss: 0.0865\n",
      "Epoch 110/130\n",
      "60000/60000 [==============================] - 3s 50us/step - loss: 0.0861 - val_loss: 0.0868\n",
      "Epoch 111/130\n",
      "60000/60000 [==============================] - 3s 50us/step - loss: 0.0859 - val_loss: 0.0876\n",
      "Epoch 112/130\n",
      "60000/60000 [==============================] - 3s 49us/step - loss: 0.0859 - val_loss: 0.0857\n",
      "Epoch 113/130\n",
      "60000/60000 [==============================] - 3s 48us/step - loss: 0.0859 - val_loss: 0.0868\n",
      "Epoch 114/130\n",
      "60000/60000 [==============================] - 3s 50us/step - loss: 0.0857 - val_loss: 0.0862\n",
      "Epoch 115/130\n",
      "60000/60000 [==============================] - 3s 49us/step - loss: 0.0856 - val_loss: 0.0857\n",
      "Epoch 116/130\n",
      "60000/60000 [==============================] - 3s 49us/step - loss: 0.0856 - val_loss: 0.0862\n",
      "Epoch 117/130\n",
      "60000/60000 [==============================] - 3s 49us/step - loss: 0.0856 - val_loss: 0.0872\n",
      "Epoch 118/130\n",
      "60000/60000 [==============================] - 3s 49us/step - loss: 0.0855 - val_loss: 0.0860\n",
      "Epoch 119/130\n",
      "60000/60000 [==============================] - 3s 49us/step - loss: 0.0855 - val_loss: 0.0853\n",
      "Epoch 120/130\n",
      "60000/60000 [==============================] - 3s 50us/step - loss: 0.0852 - val_loss: 0.0875\n",
      "Epoch 121/130\n",
      "60000/60000 [==============================] - 3s 49us/step - loss: 0.0853 - val_loss: 0.0861\n",
      "Epoch 122/130\n",
      "60000/60000 [==============================] - 3s 50us/step - loss: 0.0852 - val_loss: 0.0855\n",
      "Epoch 123/130\n",
      "60000/60000 [==============================] - 3s 50us/step - loss: 0.0852 - val_loss: 0.0865\n",
      "Epoch 124/130\n",
      "60000/60000 [==============================] - 3s 50us/step - loss: 0.0851 - val_loss: 0.0853\n",
      "Epoch 125/130\n",
      "60000/60000 [==============================] - 3s 50us/step - loss: 0.0851 - val_loss: 0.0861\n",
      "Epoch 126/130\n",
      "60000/60000 [==============================] - 3s 49us/step - loss: 0.0850 - val_loss: 0.0858\n",
      "Epoch 127/130\n",
      "60000/60000 [==============================] - 3s 50us/step - loss: 0.0849 - val_loss: 0.0857\n",
      "Epoch 128/130\n",
      "60000/60000 [==============================] - 3s 49us/step - loss: 0.0849 - val_loss: 0.0848\n",
      "Epoch 129/130\n",
      "60000/60000 [==============================] - 3s 49us/step - loss: 0.0847 - val_loss: 0.0848\n",
      "Epoch 130/130\n",
      "60000/60000 [==============================] - 3s 49us/step - loss: 0.0847 - val_loss: 0.0857\n"
     ]
    }
   ],
   "source": [
    "deep_autoencoder, history = model_train(model=deep_autoencoder,x_train=x_train,x_test=x_test,batch_size=256,epochs=130,shuffle=True)"
   ]
  },
  {
   "cell_type": "code",
   "execution_count": 52,
   "metadata": {},
   "outputs": [
    {
     "data": {
      "image/png": "[encoded data removed]",
      "text/plain": [
       "<Figure size 432x288 with 1 Axes>"
      ]
     },
     "metadata": {},
     "output_type": "display_data"
    }
   ],
   "source": [
    "plt.plot(history.history['loss'])\n",
    "plt.show()"
   ]
  },
  {
   "cell_type": "code",
   "execution_count": 53,
   "metadata": {},
   "outputs": [
    {
     "data": {
      "text/plain": [
       "<matplotlib.image.AxesImage at 0x425d64a8>"
      ]
     },
     "execution_count": 53,
     "metadata": {},
     "output_type": "execute_result"
    },
    {
     "data": {
      "image/png": "[encoded data removed]",
      "text/plain": [
       "<Figure size 432x288 with 1 Axes>"
      ]
     },
     "metadata": {},
     "output_type": "display_data"
    }
   ],
   "source": [
    "index=np.random.randint(0,100)    \n",
    "image=x_test[index]\n",
    "image.shape\n",
    "image=np.expand_dims(image,axis=0)\n",
    "image.shape    \n",
    "\n",
    "recon_image=model_generation(deep_autoencoder,image)\n",
    "\n",
    "or_image= image.reshape(image.shape[0],28,28)\n",
    "recon_image=recon_image.reshape(recon_image.shape[0],28,28)\n",
    "\n",
    "plt.figure\n",
    "plt.imshow(or_image[0,:,:])"
   ]
  },
  {
   "cell_type": "code",
   "execution_count": 54,
   "metadata": {},
   "outputs": [
    {
     "data": {
      "text/plain": [
       "<matplotlib.image.AxesImage at 0x4367af98>"
      ]
     },
     "execution_count": 54,
     "metadata": {},
     "output_type": "execute_result"
    },
    {
     "data": {
      "image/png": "[encoded data removed]",
      "text/plain": [
       "<Figure size 432x288 with 1 Axes>"
      ]
     },
     "metadata": {},
     "output_type": "display_data"
    }
   ],
   "source": [
    "plt.imshow(recon_image[0,:,:])"
   ]
  },
  {
   "cell_type": "code",
   "execution_count": 55,
   "metadata": {},
   "outputs": [],
   "source": [
    "sparse_deep_autoencoder=model_compile(sparse_deep_autoencoder, opt='adadelta',los='binary_crossentropy')"
   ]
  },
  {
   "cell_type": "code",
   "execution_count": 57,
   "metadata": {},
   "outputs": [
    {
     "name": "stdout",
     "output_type": "stream",
     "text": [
      "Train on 60000 samples, validate on 10000 samples\n",
      "Epoch 1/2\n",
      "60000/60000 [==============================] - 3s 52us/step - loss: 0.1477 - val_loss: 0.1517\n",
      "Epoch 2/2\n",
      "60000/60000 [==============================] - 3s 50us/step - loss: 0.1476 - val_loss: 0.1526\n"
     ]
    }
   ],
   "source": [
    "sparse_deep_autoencoder, history = model_train(model=sparse_deep_autoencoder,x_train=x_train,x_test=x_test,batch_size=256,epochs=2,shuffle=True)"
   ]
  },
  {
   "cell_type": "code",
   "execution_count": 58,
   "metadata": {},
   "outputs": [
    {
     "data": {
      "text/plain": [
       "[<matplotlib.lines.Line2D at 0x44ec1a90>]"
      ]
     },
     "execution_count": 58,
     "metadata": {},
     "output_type": "execute_result"
    },
    {
     "data": {
      "image/png": "[encoded data removed]",
      "text/plain": [
       "<Figure size 432x288 with 1 Axes>"
      ]
     },
     "metadata": {},
     "output_type": "display_data"
    }
   ],
   "source": [
    "plt.plot(history.history['loss'])"
   ]
  },
  {
   "cell_type": "code",
   "execution_count": 255,
   "metadata": {},
   "outputs": [
    {
     "data": {
      "text/plain": [
       "<matplotlib.image.AxesImage at 0x4ee628d0>"
      ]
     },
     "execution_count": 255,
     "metadata": {},
     "output_type": "execute_result"
    },
    {
     "data": {
      "image/png": "[encoded data removed]",
      "text/plain": [
       "<Figure size 432x288 with 1 Axes>"
      ]
     },
     "metadata": {},
     "output_type": "display_data"
    }
   ],
   "source": [
    "index=np.random.randint(0,1000)    \n",
    "image=x_test[index]\n",
    "image.shape\n",
    "image=np.expand_dims(image,axis=0)\n",
    "image.shape    \n",
    "\n",
    "recon_image_shallow=model_generation(shallow_autoencoder,image)\n",
    "recon_image_deep=model_generation(deep_autoencoder,image)\n",
    "recon_image_sparse_deep=model_generation(sparse_deep_autoencoder,image)\n",
    "\n",
    "\n",
    "or_image= image.reshape(image.shape[0],28,28)\n",
    "\n",
    "plt.figure\n",
    "plt.imshow(or_image[0,:,:]*255)"
   ]
  },
  {
   "cell_type": "code",
   "execution_count": 256,
   "metadata": {},
   "outputs": [
    {
     "data": {
      "text/plain": [
       "<matplotlib.image.AxesImage at 0x4eebf0b8>"
      ]
     },
     "execution_count": 256,
     "metadata": {},
     "output_type": "execute_result"
    },
    {
     "data": {
      "image/png": "[encoded data removed]",
      "text/plain": [
       "<Figure size 432x288 with 1 Axes>"
      ]
     },
     "metadata": {},
     "output_type": "display_data"
    }
   ],
   "source": [
    "plt.figure\n",
    "recon_image_shallow=recon_image_shallow.reshape(recon_image_shallow.shape[0],28,28)\n",
    "plt.imshow(recon_image_shallow[0,:,:]*255)"
   ]
  },
  {
   "cell_type": "code",
   "execution_count": 257,
   "metadata": {},
   "outputs": [
    {
     "data": {
      "text/plain": [
       "<matplotlib.image.AxesImage at 0x4ef0de80>"
      ]
     },
     "execution_count": 257,
     "metadata": {},
     "output_type": "execute_result"
    },
    {
     "data": {
      "image/png": "[encoded data removed]",
      "text/plain": [
       "<Figure size 432x288 with 1 Axes>"
      ]
     },
     "metadata": {},
     "output_type": "display_data"
    }
   ],
   "source": [
    "plt.figure\n",
    "recon_image_deep=recon_image_deep.reshape(recon_image_deep.shape[0],28,28)\n",
    "plt.imshow(recon_image_deep[0,:,:]*255)"
   ]
  },
  {
   "cell_type": "code",
   "execution_count": 258,
   "metadata": {},
   "outputs": [
    {
     "data": {
      "text/plain": [
       "<matplotlib.image.AxesImage at 0x4ef63e48>"
      ]
     },
     "execution_count": 258,
     "metadata": {},
     "output_type": "execute_result"
    },
    {
     "data": {
      "image/png": "[encoded data removed]",
      "text/plain": [
       "<Figure size 432x288 with 1 Axes>"
      ]
     },
     "metadata": {},
     "output_type": "display_data"
    }
   ],
   "source": [
    "plt.figure\n",
    "recon_image_sparse_deep=recon_image_sparse_deep.reshape(recon_image_sparse_deep.shape[0],28,28)\n",
    "plt.imshow(recon_image_sparse_deep[0,:,:]*255)"
   ]
  },
  {
   "cell_type": "code",
   "execution_count": 265,
   "metadata": {},
   "outputs": [],
   "source": [
    "def make_noise(x_train,x_test):\n",
    "        noise_factor = 0.5\n",
    "        x_train_noisy = x_train + noise_factor * np.random.normal(loc=0.0, scale=1.0, size=x_train.shape) \n",
    "        x_test_noisy = x_test + noise_factor * np.random.normal(loc=0.0, scale=1.0, size=x_test.shape)\n",
    "        x_train_noisy = np.clip(x_train_noisy, 0., 1.)\n",
    "        x_test_noisy = np.clip(x_test_noisy, 0., 1.)\n",
    "        return x_train_noisy,x_test_noisy\n",
    "\n",
    "x_train, x_test = make_noise(x_train,x_test)"
   ]
  },
  {
   "cell_type": "code",
   "execution_count": 271,
   "metadata": {},
   "outputs": [
    {
     "data": {
      "text/plain": [
       "<matplotlib.image.AxesImage at 0x5a632f28>"
      ]
     },
     "execution_count": 271,
     "metadata": {},
     "output_type": "execute_result"
    },
    {
     "data": {
      "image/png": "[encoded data removed]",
      "text/plain": [
       "<Figure size 432x288 with 1 Axes>"
      ]
     },
     "metadata": {},
     "output_type": "display_data"
    }
   ],
   "source": [
    "plt.imshow(x_train.reshape(x_train.shape[0],28,28)[3])"
   ]
  },
  {
   "cell_type": "code",
   "execution_count": 296,
   "metadata": {},
   "outputs": [],
   "source": [
    "x_train_noisy=data_preprocess(x_train_noisy)"
   ]
  },
  {
   "cell_type": "code",
   "execution_count": 297,
   "metadata": {},
   "outputs": [
    {
     "data": {
      "text/plain": [
       "(60000, 784)"
      ]
     },
     "execution_count": 297,
     "metadata": {},
     "output_type": "execute_result"
    }
   ],
   "source": [
    "x_train_noisy.shape"
   ]
  },
  {
   "cell_type": "code",
   "execution_count": 298,
   "metadata": {},
   "outputs": [],
   "source": [
    "x_test_noisy=data_preprocess(x_test_noisy)"
   ]
  },
  {
   "cell_type": "code",
   "execution_count": 299,
   "metadata": {},
   "outputs": [
    {
     "data": {
      "text/plain": [
       "(10000, 784)"
      ]
     },
     "execution_count": 299,
     "metadata": {},
     "output_type": "execute_result"
    }
   ],
   "source": [
    "x_test_noisy.shape"
   ]
  },
  {
   "cell_type": "code",
   "execution_count": 307,
   "metadata": {},
   "outputs": [
    {
     "name": "stdout",
     "output_type": "stream",
     "text": [
      "_________________________________________________________________\n",
      "Layer (type)                 Output Shape              Param #   \n",
      "=================================================================\n",
      "input_15 (InputLayer)        (None, 784)               0         \n",
      "_________________________________________________________________\n",
      "dense_57 (Dense)             (None, 512)               401920    \n",
      "_________________________________________________________________\n",
      "dense_58 (Dense)             (None, 256)               131328    \n",
      "_________________________________________________________________\n",
      "dense_59 (Dense)             (None, 128)               32896     \n",
      "_________________________________________________________________\n",
      "dense_60 (Dense)             (None, 64)                8256      \n",
      "_________________________________________________________________\n",
      "dense_61 (Dense)             (None, 128)               8320      \n",
      "_________________________________________________________________\n",
      "dense_62 (Dense)             (None, 256)               33024     \n",
      "_________________________________________________________________\n",
      "dense_63 (Dense)             (None, 512)               131584    \n",
      "_________________________________________________________________\n",
      "dense_64 (Dense)             (None, 784)               402192    \n",
      "=================================================================\n",
      "Total params: 1,149,520\n",
      "Trainable params: 1,149,520\n",
      "Non-trainable params: 0\n",
      "_________________________________________________________________\n"
     ]
    }
   ],
   "source": [
    "deep_autoencoder.summary()"
   ]
  },
  {
   "cell_type": "code",
   "execution_count": null,
   "metadata": {},
   "outputs": [],
   "source": [
    "history=model_train(deep_autoencoder,x_train=x_train_noisy,y_train=x_train,x_test=x_test_noisy,y_test,batch_size,epochs,shuffle=True):"
   ]
  }
 ],
 "metadata": {
  "kernelspec": {
   "display_name": "Python 3",
   "language": "python",
   "name": "python3"
  },
  "language_info": {
   "codemirror_mode": {
    "name": "ipython",
    "version": 3
   },
   "file_extension": ".py",
   "mimetype": "text/x-python",
   "name": "python",
   "nbconvert_exporter": "python",
   "pygments_lexer": "ipython3",
   "version": "3.6.5"
  }
 },
 "nbformat": 4,
 "nbformat_minor": 2
}
