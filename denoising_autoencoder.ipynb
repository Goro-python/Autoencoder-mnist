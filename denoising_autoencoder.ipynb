{
 "cells": [
  {
   "cell_type": "code",
   "execution_count": 1,
   "metadata": {},
   "outputs": [
    {
     "name": "stderr",
     "output_type": "stream",
     "text": [
      "Using TensorFlow backend.\n"
     ]
    }
   ],
   "source": [
    "import numpy as np\n",
    "from keras.layers import Dense, Input\n",
    "from keras.models import Model\n",
    "from keras.optimizers import adadelta\n",
    "from keras.regularizers import l1\n",
    "import pydot\n",
    "import matplotlib.pyplot as plt "
   ]
  },
  {
   "cell_type": "code",
   "execution_count": 2,
   "metadata": {},
   "outputs": [],
   "source": [
    "def shallow_autoencoder(input_size,embed_size):\n",
    "    \n",
    "    x_in = Input(shape=(input_size,))\n",
    "    X_EN=Dense(embed_size,activation='relu')(x_in)\n",
    "    X_De=Dense(input_size,activation='sigmoid')(X_EN)\n",
    "    shallow_autoencoder=Model(inputs=x_in,outputs=X_De)\n",
    "    \n",
    "    # encoder model\n",
    "    \n",
    "    encoder= Model(inputs=x_in,outputs=X_EN)\n",
    "    # decoder model\n",
    "    x_en= Input(shape=(embed_size,))\n",
    "    decode_layer=shallow_autoencoder.layers[-1]\n",
    "    decoder= Model(inputs=x_en,outputs=decode_layer(x_en))\n",
    "    \n",
    "    \n",
    "    return shallow_autoencoder,encoder,decoder\n",
    "    "
   ]
  },
  {
   "cell_type": "code",
   "execution_count": 3,
   "metadata": {},
   "outputs": [],
   "source": [
    "shallow_autoencoder, encoder, decoder = shallow_autoencoder(input_size=784,embed_size=64)"
   ]
  },
  {
   "cell_type": "code",
   "execution_count": 5,
   "metadata": {},
   "outputs": [
    {
     "name": "stdout",
     "output_type": "stream",
     "text": [
      "_________________________________________________________________\n",
      "Layer (type)                 Output Shape              Param #   \n",
      "=================================================================\n",
      "input_1 (InputLayer)         (None, 784)               0         \n",
      "_________________________________________________________________\n",
      "dense_1 (Dense)              (None, 64)                50240     \n",
      "_________________________________________________________________\n",
      "dense_2 (Dense)              (None, 784)               50960     \n",
      "=================================================================\n",
      "Total params: 101,200\n",
      "Trainable params: 101,200\n",
      "Non-trainable params: 0\n",
      "_________________________________________________________________\n"
     ]
    }
   ],
   "source": [
    "shallow_autoencoder.summary()"
   ]
  },
  {
   "cell_type": "code",
   "execution_count": 6,
   "metadata": {},
   "outputs": [],
   "source": [
    "def model_compile(model,opt,los):\n",
    "    model.compile(optimizer=opt,loss=los)\n",
    "    return model\n",
    "    \n",
    "    \n",
    "def model_train(model,x_train,y_train,x_test,y_test,batch_size,epochs,shuffle=True): # generic for image denoising \n",
    "    history=model.fit(x_train, x_train,epochs=epochs,batch_size=batch_size,shuffle=True,validation_data=(x_test, x_test))\n",
    "    return model,history\n",
    "\n",
    "shallow_autoencoder=model_compile(shallow_autoencoder, opt='adadelta',los='binary_crossentropy')\n"
   ]
  },
  {
   "cell_type": "code",
   "execution_count": 48,
   "metadata": {},
   "outputs": [],
   "source": [
    "def data_loading():\n",
    "    from keras.datasets import mnist\n",
    "    (x_train,_), (x_test,_) = mnist.load_data()\n",
    "    return x_train,x_test\n",
    "\n",
    "x_train , x_test = data_loading()\n",
    "\n",
    "\n",
    "\n",
    "def image_noise(x_train,x_test):\n",
    "    \n",
    "    x_train = x_train.astype('float32') / 255.\n",
    "    x_test = x_test.astype('float32') / 255.\n",
    "    x_train = np.reshape(x_train, (len(x_train), 28, 28, 1))  # adapt this if using `channels_first` image data format\n",
    "    x_test = np.reshape(x_test, (len(x_test), 28, 28, 1))  # adapt this if using `channels_first` image data format\n",
    "    noise_factor = 0.5\n",
    "    x_train_noisy = x_train + noise_factor * np.random.normal(loc=0.0, scale=1.0, size=x_train.shape) \n",
    "    x_test_noisy = x_test + noise_factor * np.random.normal(loc=0.0, scale=1.0, size=x_test.shape) \n",
    "    x_train_noisy = np.clip(x_train_noisy, 0., 1.)\n",
    "    x_test_noisy = np.clip(x_test_noisy, 0., 1.)\n",
    "    return x_train_noisy,x_test_noisy\n",
    "\n",
    "\n",
    "x_train_noisy,x_test_noisy=image_noise(x_train,x_test)"
   ]
  },
  {
   "cell_type": "code",
   "execution_count": 49,
   "metadata": {},
   "outputs": [
    {
     "data": {
      "text/plain": [
       "(60000, 28, 28, 1)"
      ]
     },
     "execution_count": 49,
     "metadata": {},
     "output_type": "execute_result"
    }
   ],
   "source": [
    "x_train_noisy.shape"
   ]
  },
  {
   "cell_type": "code",
   "execution_count": 50,
   "metadata": {},
   "outputs": [],
   "source": [
    "import cv2\n"
   ]
  },
  {
   "cell_type": "code",
   "execution_count": 51,
   "metadata": {},
   "outputs": [
    {
     "data": {
      "text/plain": [
       "<matplotlib.image.AxesImage at 0x2503447c5f8>"
      ]
     },
     "execution_count": 51,
     "metadata": {},
     "output_type": "execute_result"
    },
    {
     "data": {
      "image/png": "[encoded data removed]",
      "text/plain": [
       "<Figure size 432x288 with 1 Axes>"
      ]
     },
     "metadata": {
      "needs_background": "light"
     },
     "output_type": "display_data"
    }
   ],
   "source": [
    "image=x_test_noisy[10]\n",
    "\n",
    "image.shape\n",
    "\n",
    "plt.imshow(image.reshape(28,28))"
   ]
  },
  {
   "cell_type": "code",
   "execution_count": 52,
   "metadata": {},
   "outputs": [],
   "source": [
    "def data_preprocess(x):\n",
    "    return (x.astype('float32')).reshape(x.shape[0],np.prod(x.shape[1:]))\n",
    "\n",
    "x_train_noisy_flat=data_preprocess(x_train_noisy)\n",
    "x_train_flat=data_preprocess(x_train)\n",
    "x_test_noisy_flat=data_preprocess(x_test_noisy)\n",
    "x_test_flat=data_preprocess(x_test)\n",
    "\n"
   ]
  },
  {
   "cell_type": "code",
   "execution_count": 53,
   "metadata": {},
   "outputs": [
    {
     "data": {
      "text/plain": [
       "(10000, 784)"
      ]
     },
     "execution_count": 53,
     "metadata": {},
     "output_type": "execute_result"
    }
   ],
   "source": [
    "x_test_noisy_flat.shape"
   ]
  },
  {
   "cell_type": "code",
   "execution_count": 55,
   "metadata": {},
   "outputs": [
    {
     "name": "stdout",
     "output_type": "stream",
     "text": [
      "Train on 60000 samples, validate on 10000 samples\n",
      "Epoch 1/50\n",
      "60000/60000 [==============================] - 3s 54us/step - loss: 0.5012 - val_loss: 0.5011\n",
      "Epoch 2/50\n",
      "60000/60000 [==============================] - 3s 53us/step - loss: 0.5010 - val_loss: 0.5009\n",
      "Epoch 3/50\n",
      "60000/60000 [==============================] - 3s 51us/step - loss: 0.5008 - val_loss: 0.5008\n",
      "Epoch 4/50\n",
      "60000/60000 [==============================] - 3s 50us/step - loss: 0.5007 - val_loss: 0.5006\n",
      "Epoch 5/50\n",
      "60000/60000 [==============================] - 3s 51us/step - loss: 0.5006 - val_loss: 0.5006\n",
      "Epoch 6/50\n",
      "60000/60000 [==============================] - 3s 51us/step - loss: 0.5005 - val_loss: 0.5005\n",
      "Epoch 7/50\n",
      "60000/60000 [==============================] - 3s 52us/step - loss: 0.5004 - val_loss: 0.5004\n",
      "Epoch 8/50\n",
      "60000/60000 [==============================] - 3s 42us/step - loss: 0.5003 - val_loss: 0.5003\n",
      "Epoch 9/50\n",
      "60000/60000 [==============================] - 3s 43us/step - loss: 0.5002 - val_loss: 0.5003\n",
      "Epoch 10/50\n",
      "60000/60000 [==============================] - 3s 43us/step - loss: 0.5002 - val_loss: 0.5003\n",
      "Epoch 11/50\n",
      "60000/60000 [==============================] - 3s 46us/step - loss: 0.5001 - val_loss: 0.5002\n",
      "Epoch 12/50\n",
      "60000/60000 [==============================] - 3s 44us/step - loss: 0.5000 - val_loss: 0.5001\n",
      "Epoch 13/50\n",
      "60000/60000 [==============================] - 3s 43us/step - loss: 0.5000 - val_loss: 0.5000\n",
      "Epoch 14/50\n",
      "60000/60000 [==============================] - 3s 43us/step - loss: 0.5000 - val_loss: 0.5001\n",
      "Epoch 15/50\n",
      "60000/60000 [==============================] - 3s 48us/step - loss: 0.4999 - val_loss: 0.5000\n",
      "Epoch 16/50\n",
      "60000/60000 [==============================] - 3s 53us/step - loss: 0.4999 - val_loss: 0.5000\n",
      "Epoch 17/50\n",
      "60000/60000 [==============================] - 3s 52us/step - loss: 0.4998 - val_loss: 0.4999\n",
      "Epoch 18/50\n",
      "60000/60000 [==============================] - 3s 52us/step - loss: 0.4998 - val_loss: 0.5000\n",
      "Epoch 19/50\n",
      "60000/60000 [==============================] - 3s 52us/step - loss: 0.4998 - val_loss: 0.4999\n",
      "Epoch 20/50\n",
      "60000/60000 [==============================] - 3s 54us/step - loss: 0.4997 - val_loss: 0.4999\n",
      "Epoch 21/50\n",
      "60000/60000 [==============================] - 3s 52us/step - loss: 0.4997 - val_loss: 0.4998\n",
      "Epoch 22/50\n",
      "60000/60000 [==============================] - 3s 54us/step - loss: 0.4997 - val_loss: 0.4998\n",
      "Epoch 23/50\n",
      "60000/60000 [==============================] - 3s 54us/step - loss: 0.4996 - val_loss: 0.4998\n",
      "Epoch 24/50\n",
      "60000/60000 [==============================] - 3s 52us/step - loss: 0.4996 - val_loss: 0.4998\n",
      "Epoch 25/50\n",
      "60000/60000 [==============================] - 3s 53us/step - loss: 0.4996 - val_loss: 0.4998\n",
      "Epoch 26/50\n",
      "60000/60000 [==============================] - 3s 53us/step - loss: 0.4996 - val_loss: 0.4997\n",
      "Epoch 27/50\n",
      "60000/60000 [==============================] - 3s 55us/step - loss: 0.4995 - val_loss: 0.4997\n",
      "Epoch 28/50\n",
      "60000/60000 [==============================] - 3s 54us/step - loss: 0.4995 - val_loss: 0.4997\n",
      "Epoch 29/50\n",
      "60000/60000 [==============================] - 3s 53us/step - loss: 0.4995 - val_loss: 0.4997\n",
      "Epoch 30/50\n",
      "60000/60000 [==============================] - 3s 53us/step - loss: 0.4995 - val_loss: 0.4997\n",
      "Epoch 31/50\n",
      "60000/60000 [==============================] - 3s 54us/step - loss: 0.4995 - val_loss: 0.4997\n",
      "Epoch 32/50\n",
      "60000/60000 [==============================] - 3s 53us/step - loss: 0.4994 - val_loss: 0.4996\n",
      "Epoch 33/50\n",
      "60000/60000 [==============================] - 3s 49us/step - loss: 0.4994 - val_loss: 0.4996\n",
      "Epoch 34/50\n",
      "60000/60000 [==============================] - 3s 44us/step - loss: 0.4994 - val_loss: 0.4996\n",
      "Epoch 35/50\n",
      "60000/60000 [==============================] - 3s 44us/step - loss: 0.4994 - val_loss: 0.4996\n",
      "Epoch 36/50\n",
      "60000/60000 [==============================] - 3s 44us/step - loss: 0.4994 - val_loss: 0.4996\n",
      "Epoch 37/50\n",
      "60000/60000 [==============================] - 3s 44us/step - loss: 0.4994 - val_loss: 0.4995\n",
      "Epoch 38/50\n",
      "60000/60000 [==============================] - 3s 44us/step - loss: 0.4993 - val_loss: 0.4995\n",
      "Epoch 39/50\n",
      "60000/60000 [==============================] - 3s 44us/step - loss: 0.4993 - val_loss: 0.4995\n",
      "Epoch 40/50\n",
      "60000/60000 [==============================] - 3s 45us/step - loss: 0.4993 - val_loss: 0.4995\n",
      "Epoch 41/50\n",
      "60000/60000 [==============================] - 3s 57us/step - loss: 0.4993 - val_loss: 0.4995\n",
      "Epoch 42/50\n",
      "60000/60000 [==============================] - 3s 56us/step - loss: 0.4993 - val_loss: 0.4995\n",
      "Epoch 43/50\n",
      "60000/60000 [==============================] - 3s 54us/step - loss: 0.4993 - val_loss: 0.4995\n",
      "Epoch 44/50\n",
      "60000/60000 [==============================] - 3s 53us/step - loss: 0.4992 - val_loss: 0.4994\n",
      "Epoch 45/50\n",
      "60000/60000 [==============================] - 4s 60us/step - loss: 0.4992 - val_loss: 0.4995\n",
      "Epoch 46/50\n",
      "60000/60000 [==============================] - 3s 55us/step - loss: 0.4992 - val_loss: 0.4994\n",
      "Epoch 47/50\n",
      "60000/60000 [==============================] - 3s 54us/step - loss: 0.4992 - val_loss: 0.4994\n",
      "Epoch 48/50\n",
      "60000/60000 [==============================] - 3s 54us/step - loss: 0.4992 - val_loss: 0.4994\n",
      "Epoch 49/50\n",
      "60000/60000 [==============================] - 3s 54us/step - loss: 0.4992 - val_loss: 0.4994\n",
      "Epoch 50/50\n",
      "60000/60000 [==============================] - 3s 54us/step - loss: 0.4992 - val_loss: 0.4994\n"
     ]
    }
   ],
   "source": [
    "shallow_autoencoder, history = model_train(shallow_autoencoder,x_train=x_train_noisy_flat,y_train=x_train_flat,x_test=x_test_noisy_flat,y_test=x_test_flat,batch_size=256,epochs=50,shuffle=True)"
   ]
  },
  {
   "cell_type": "code",
   "execution_count": 37,
   "metadata": {},
   "outputs": [],
   "source": [
    "def model_generation(model,image):\n",
    "    recon_image = model.predict(image)\n",
    "    return recon_image"
   ]
  },
  {
   "cell_type": "code",
   "execution_count": 46,
   "metadata": {},
   "outputs": [
    {
     "data": {
      "text/plain": [
       "<matplotlib.image.AxesImage at 0x250343d3ba8>"
      ]
     },
     "execution_count": 46,
     "metadata": {},
     "output_type": "execute_result"
    },
    {
     "data": {
      "image/png": "[encoded data removed]",
      "text/plain": [
       "<Figure size 432x288 with 1 Axes>"
      ]
     },
     "metadata": {
      "needs_background": "light"
     },
     "output_type": "display_data"
    }
   ],
   "source": [
    "index=np.random.randint(0,100)    \n",
    "image=x_test_noisy_flat[index]\n",
    "image.shape\n",
    "image=np.expand_dims(image,axis=0)\n",
    "image.shape    \n",
    "\n",
    "recon_image=model_generation(shallow_autoencoder,image)\n",
    "\n",
    "or_image= image.reshape(image.shape[0],28,28,1)\n",
    "recon_image=recon_image.reshape(recon_image.shape[0],28,28,1)\n",
    "\n",
    "plt.figure\n",
    "plt.imshow(or_image[0].reshape(28,28))"
   ]
  },
  {
   "cell_type": "code",
   "execution_count": 47,
   "metadata": {},
   "outputs": [
    {
     "data": {
      "text/plain": [
       "<matplotlib.image.AxesImage at 0x25034422780>"
      ]
     },
     "execution_count": 47,
     "metadata": {},
     "output_type": "execute_result"
    },
    {
     "data": {
      "image/png": "[encoded data removed]",
      "text/plain": [
       "<Figure size 432x288 with 1 Axes>"
      ]
     },
     "metadata": {
      "needs_background": "light"
     },
     "output_type": "display_data"
    }
   ],
   "source": [
    "plt.figure\n",
    "plt.imshow(recon_image[0].reshape(28,28))"
   ]
  },
  {
   "cell_type": "code",
   "execution_count": null,
   "metadata": {},
   "outputs": [],
   "source": []
  }
 ],
 "metadata": {
  "kernelspec": {
   "display_name": "Python 3",
   "language": "python",
   "name": "python3"
  },
  "language_info": {
   "codemirror_mode": {
    "name": "ipython",
    "version": 3
   },
   "file_extension": ".py",
   "mimetype": "text/x-python",
   "name": "python",
   "nbconvert_exporter": "python",
   "pygments_lexer": "ipython3",
   "version": "3.6.8"
  }
 },
 "nbformat": 4,
 "nbformat_minor": 2
}
