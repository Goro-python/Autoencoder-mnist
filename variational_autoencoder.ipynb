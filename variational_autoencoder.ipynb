{
 "cells": [
  {
   "cell_type": "code",
   "execution_count": 9,
   "metadata": {},
   "outputs": [],
   "source": [
    "import numpy as np\n",
    "from keras.layers import Dense, Input, Lambda\n",
    "from keras.models import Model\n",
    "from keras.optimizers import adadelta\n",
    "from keras.regularizers import l1\n",
    "import pydot\n",
    "import matplotlib.pyplot as plt \n",
    "import keras.backend as K"
   ]
  },
  {
   "cell_type": "code",
   "execution_count": 10,
   "metadata": {},
   "outputs": [],
   "source": [
    "def shallow_variational_autoencoder(input_size,embed_size,batch_size):\n",
    "    \n",
    "    # encoder \n",
    "    \n",
    "    x_in = Input(batch_shape=(batch_size,input_size))\n",
    "    X=Dense(512,activation='relu')(x_in)\n",
    "    Z_mu=Dense(embed_size,activation='relu')(X)\n",
    "    Z_sigma=Dense(embed_size,activation='relu')(X)\n",
    "    \n",
    "    def sampling(args):\n",
    "        Z_mu , Z_sigma = args\n",
    "        epsilon=K.random_normal(shape=(batch_size,embed_size), mean=0.0, stddev=1.0)\n",
    "        return Z_mu+K.exp(Z_sigma)*epsilon\n",
    "    \n",
    "    \n",
    "    Z = Lambda(sampling, output_shape=(embed_size,))([Z_mu , Z_sigma])\n",
    "    \n",
    "    # decoder\n",
    "    \n",
    "    decode_1=Dense(512,activation='relu')\n",
    "    decode_2=Dense(input_size,activation='sigmoid')\n",
    "    \n",
    "    h1=decode_1(Z)\n",
    "    X_mean = decode_2(h1)\n",
    "    \n",
    "    \n",
    "    VAE=Model(inputs = x_in , outputs = X_mean)\n",
    "    \n",
    "    #encoder model\n",
    "    \n",
    "    encoder = Model (inputs = x_in,outputs= Z_mu )\n",
    "    \n",
    "    \n",
    "    # decoder model\n",
    "    \n",
    "    \n",
    "    decoder_input = Input(shape=(embed_size,))\n",
    "    _h_decoded = decode_1(decoder_input)\n",
    "    _x_decoded_mean = decode_2(_h_decoded)\n",
    "    generator = Model(inputs = decoder_input, outputs= _x_decoded_mean )\n",
    "   \n",
    "    \n",
    "    return VAE,encoder, generator\n",
    "\n",
    "\n",
    "VAE,encoder, generator = shallow_variational_autoencoder(input_size= 784 ,embed_size = 64, batch_size= 128)"
   ]
  },
  {
   "cell_type": "code",
   "execution_count": 11,
   "metadata": {},
   "outputs": [
    {
     "name": "stdout",
     "output_type": "stream",
     "text": [
      "__________________________________________________________________________________________________\n",
      "Layer (type)                    Output Shape         Param #     Connected to                     \n",
      "==================================================================================================\n",
      "input_4 (InputLayer)            (128, 784)           0                                            \n",
      "__________________________________________________________________________________________________\n",
      "dense_8 (Dense)                 (128, 512)           401920      input_4[0][0]                    \n",
      "__________________________________________________________________________________________________\n",
      "dense_9 (Dense)                 (128, 64)            32832       dense_8[0][0]                    \n",
      "__________________________________________________________________________________________________\n",
      "dense_10 (Dense)                (128, 64)            32832       dense_8[0][0]                    \n",
      "__________________________________________________________________________________________________\n",
      "lambda_1 (Lambda)               (128, 64)            0           dense_9[0][0]                    \n",
      "                                                                 dense_10[0][0]                   \n",
      "__________________________________________________________________________________________________\n",
      "dense_11 (Dense)                multiple             33280       lambda_1[0][0]                   \n",
      "__________________________________________________________________________________________________\n",
      "dense_12 (Dense)                multiple             402192      dense_11[0][0]                   \n",
      "==================================================================================================\n",
      "Total params: 903,056\n",
      "Trainable params: 903,056\n",
      "Non-trainable params: 0\n",
      "__________________________________________________________________________________________________\n"
     ]
    }
   ],
   "source": [
    "VAE.summary()\n"
   ]
  },
  {
   "cell_type": "code",
   "execution_count": 15,
   "metadata": {},
   "outputs": [],
   "source": [
    "from keras.utils import plot_model\n",
    "plot_model(VAE, to_file='VAE_model.png')"
   ]
  },
  {
   "cell_type": "code",
   "execution_count": null,
   "metadata": {},
   "outputs": [],
   "source": [
    "def vae_loss(X_in, X_fake):\n",
    "    log_loss=K.binary \n",
    "    "
   ]
  }
 ],
 "metadata": {
  "kernelspec": {
   "display_name": "Python 3",
   "language": "python",
   "name": "python3"
  },
  "language_info": {
   "codemirror_mode": {
    "name": "ipython",
    "version": 3
   },
   "file_extension": ".py",
   "mimetype": "text/x-python",
   "name": "python",
   "nbconvert_exporter": "python",
   "pygments_lexer": "ipython3",
   "version": "3.6.8"
  }
 },
 "nbformat": 4,
 "nbformat_minor": 2
}
